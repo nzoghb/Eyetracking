{
 "cells": [
  {
   "cell_type": "markdown",
   "metadata": {},
   "source": [
    "# Eye Tracking Pipeline\n",
    "\n",
    "### Nicolas Zoghb"
   ]
  },
  {
   "cell_type": "markdown",
   "metadata": {},
   "source": [
    "## Table of Contents\n",
    "---\n",
    "* [Introduction](#intro)\n",
    "* [Get_Video](#gvid)\n",
    "* [Filtering](#filt)\n",
    "* [Error_Correction](#ecorr)\n",
    "* [Write_Video](#wvid)\n",
    "* [Warp_Field](#warpf)\n",
    "* [Main( )](#main)"
   ]
  },
  {
   "cell_type": "markdown",
   "metadata": {},
   "source": [
    "<a id='intro'></a>\n",
    "## Introduction\n",
    "---\n",
    "Welcome"
   ]
  },
  {
   "cell_type": "markdown",
   "metadata": {
    "collapsed": true
   },
   "source": [
    "<a id='todo'></a>\n",
    "## Things To Do \n",
    "---\n",
    "* Buffer video\n",
    "* Switch to _scikit-image_ processing\n",
    "* Finish warp field\n",
    "* Run median detrending (scipy median filter)\n",
    "* Find use for glare\n",
    "* Find a way to mark blinks\n",
    "\n",
    "### Notes:\n",
    "* decide whether to use vread or vreader\n",
    "* check for frame_number consistency with T\n",
    "* add os error checking: \"if not os.path.exists(image): raise FileNotFoundError(image)\""
   ]
  },
  {
   "cell_type": "markdown",
   "metadata": {
    "collapsed": true
   },
   "source": [
    "## Preparation\n",
    "---\n",
    "Create all necessary directories for future file paths."
   ]
  },
  {
   "cell_type": "code",
   "execution_count": 16,
   "metadata": {
    "collapsed": false
   },
   "outputs": [],
   "source": [
    "import os\n",
    "import shutil\n",
    "\n",
    "\n",
    "# curr_dir = os.getcwd()\n",
    "# for file in os.listdir(curr_dir):\n",
    "#     if (file[0] == \".\") or (os.path.isfile(file)):\n",
    "#         continue\n",
    "#     shutil.rmtree(file)\n",
    "# os.mkdir(\"in_ref\") # pull relevant videos from cluster immediately afterwards\n",
    "# shutil.copy2(\"../input0.avi\", \"in_ref\")\n",
    "# os.mkdir(\"calibration_matrix\")\n",
    "# os.mkdir(\"frames_dump\") # required for obsolete function\n",
    "# os.mkdir(\"out_ref\")\n",
    "# os.mkdir(\"out_tracked\")\n",
    "# os.mkdir(\"xyrc_hdf\")"
   ]
  },
  {
   "cell_type": "markdown",
   "metadata": {
    "collapsed": true
   },
   "source": [
    "*choose_input* chooses the video sample to scan.\n",
    "\n",
    "*choose_format* is used to decide the final output video file extension.\n",
    "\n",
    "*video_show* option for displaying the videos loaded in embedded notebook."
   ]
  },
  {
   "cell_type": "code",
   "execution_count": 17,
   "metadata": {
    "collapsed": false
   },
   "outputs": [],
   "source": [
    "choose_input = 0\n",
    "choose_format = 0\n",
    "video_show = 1\n",
    "\n",
    "def video_show_switch():\n",
    "    global video_show\n",
    "    video_show ^= 1\n",
    "\n",
    "def html_show(pathway, ext):\n",
    "    HTML(\"\"\"<video width=\"320\" height=\"240\" controls>\n",
    "                <source src={0} type=\"video/{1}\">\n",
    "                </video>\"\"\".format(filtered_path, ext))\n",
    "    \n",
    "# Switch to choose video input\n",
    "options0 = {0 : \"in_ref/input0\",\n",
    "            1 : \"\",\n",
    "            2 : \"\",\n",
    "            3 : \"\",\n",
    "            4 : \"\",\n",
    "            5 : \"\",\n",
    "            6 : \"\",\n",
    "            7 : \"\",\n",
    "}\n",
    "\n",
    "options1 = {0: \"mp4\",\n",
    "            1: \"avi\",\n",
    "}\n",
    "\n",
    "video_path = options0[choose_input]\n",
    "video_format = options1[choose_format]"
   ]
  },
  {
   "cell_type": "markdown",
   "metadata": {},
   "source": [
    "<a id='gvid'></a>\n",
    "## Get_Video\n",
    "---\n",
    "description"
   ]
  },
  {
   "cell_type": "code",
   "execution_count": 18,
   "metadata": {
    "collapsed": false
   },
   "outputs": [],
   "source": [
    "from IPython.display import HTML\n",
    "import numpy as np\n",
    "import os # redundant, delete after initial cell fixed\n",
    "import subprocess as sp\n",
    "\n",
    "\n",
    "def sec2tuple(sec):\n",
    "    '''\n",
    "    Convert an integer amount of seconds to tuple broken down by hours, minutes and seconds.\n",
    "    '''\n",
    "    h = format(sec // (60*60), \"02d\") # 60mins*60secs\n",
    "    m = format(sec // 60, \"02d\")        # 60secs\n",
    "    s = format(np.mod(sec, 60), \"02d\")\n",
    "    return tuple([h, m, s])\n",
    "\n",
    "def sec2time(stimsec):\n",
    "    '''\n",
    "    Convert an interger amount of seconds to a string with proper time format (\"hh:mm:ss\").\n",
    "    '''\n",
    "    stimsec = sec2tuple(stimsec)\n",
    "    return \":\".join(map(str, stimsec))\n",
    "\n",
    "def get_segment(videofl, timepoint, duration=sec2time(60)):\n",
    "    '''\n",
    "    Retrieve a smaller segment of the inputted video.\n",
    "    Choose starting point and how long you want the segment to be.\n",
    "    '''\n",
    "    video_name, ext = os.path.splitext(videofl)\n",
    "    cmd = \"\"\"avconv -ss {timepoint} -t {duration} -i {video_name}{ext} -c:v libx264 -crf 23 out_ref/output{ext}\"\"\"\n",
    "    print(timepoint, \"||\",  duration)\n",
    "    fmt = cmd.format(video_name=video_name,\n",
    "                    timepoint=timepoint,\n",
    "                    duration=duration,\n",
    "                    ext=ext)\n",
    "    return sp.call(fmt.split())\n",
    "\n",
    "def avi2mp4(video_file, fps=60, bitrate=18000, outext='mp4', overwrite=False):\n",
    "    '''\n",
    "    Convert the video passed in from any format to the mp4 extension.\n",
    "    '''\n",
    "    cmd = \"\"\"avconv -i {video_name}{ext} -b {bitrate}k -r {fps} {video_name}.{outext}\"\"\"\n",
    "    assert os.path.exists(video_file)\n",
    "    video_name, ext = os.path.splitext(video_file)\n",
    "    \n",
    "    cmd = cmd.format(video_name=video_name,\n",
    "                     ext=ext,\n",
    "                     bitrate=bitrate,\n",
    "                     fps=fps,\n",
    "                     outext=outext)\n",
    "    outfl = \"%s.%s\" % (video_name, outext)\n",
    "    if os.path.exists(outfl):\n",
    "        print(\"%s already exists\" % outfl)\n",
    "        if not overwrite:\n",
    "            return outfl\n",
    "    sp.call(cmd.split())\n",
    "    return outfl\n",
    "\n",
    "def get_frames(videofl, timepoint, duration=sec2time(1), output='frames_dump/frameno%05d.png'):\n",
    "    '''\n",
    "    ~Obsolete function, will be reading from buffer~\n",
    "    Extract frames from a video using avconv (ffmpeg).\n",
    "    From timepoint to timepoint + duration keeping original framerate.\n",
    "    '''\n",
    "    cmd = \"\"\"avconv -i {videofl} -ss {start} -t {duration} {filename}\"\"\"\n",
    "    fmt = cmd.format(videofl=videofl,\n",
    "                    start=timepoint,\n",
    "                    duration=duration,\n",
    "                    filename=output)\n",
    "    return sp.call(fmt.split())"
   ]
  },
  {
   "cell_type": "code",
   "execution_count": 19,
   "metadata": {
    "collapsed": false
   },
   "outputs": [
    {
     "name": "stdout",
     "output_type": "stream",
     "text": [
      "00:05:00 || 00:01:00\n"
     ]
    }
   ],
   "source": [
    "import base64\n",
    "import io\n",
    "\n",
    "\n",
    "vname = \"%s.%s\" % (video_path, \"avi\")\n",
    "get_segment(vname, sec2time(300))\n",
    "segment = \"out_ref/output.avi\"\n",
    "avi2mp4(segment)\n",
    "mp4fl = \"out_ref/output.\" + video_format\n",
    "\n",
    "if video_show:\n",
    "    HTML(\"\"\"<video width=\"320\" height=\"240\" controls>\n",
    "                <source src={0} type=\"video/{1}\">\n",
    "                </video>\"\"\".format(mp4fl, video_format))"
   ]
  },
  {
   "cell_type": "markdown",
   "metadata": {
    "collapsed": true
   },
   "source": [
    "Setting *matplotlib* parameters beforehand.\n",
    "\n",
    "Something about frames"
   ]
  },
  {
   "cell_type": "code",
   "execution_count": 20,
   "metadata": {
    "collapsed": false
   },
   "outputs": [],
   "source": [
    "%matplotlib inline\n",
    "import matplotlib.pyplot as plt\n",
    "\n",
    "num_frames_display = 0\n",
    "\n",
    "plt.rcParams['image.cmap'] = 'gray'\n",
    "plt.rcParams['image.interpolation'] = 'none'\n",
    "if num_frames_display >= 20:\n",
    "    plt.rcParams['figure.max_open_warning'] = 0"
   ]
  },
  {
   "cell_type": "code",
   "execution_count": 36,
   "metadata": {
    "collapsed": false,
    "scrolled": false
   },
   "outputs": [
    {
     "name": "stdout",
     "output_type": "stream",
     "text": [
      "(3600, 240, 320, 3)\n",
      "3600\n"
     ]
    }
   ],
   "source": [
    "# from skimage import io\n",
    "from scipy.misc import toimage\n",
    "from skvideo.io import vread\n",
    "from skvideo.utils import vshape\n",
    "\n",
    "\n",
    "filename = mp4fl\n",
    "video = vread(filename, backend='libav')\n",
    "T, M, N, C = video.shape\n",
    "\n",
    "frame_list = []\n",
    "for i in range(T):\n",
    "    frame = video[i]\n",
    "    img = toimage(frame)\n",
    "    frame_list.append(img)\n",
    "\n",
    "for i in range(len(frame_list)):\n",
    "    if i == num_frames_display:\n",
    "        break\n",
    "    plt.figure()\n",
    "    plt.imshow(frame_list[i])\n",
    "\n",
    "print(video.shape)\n",
    "print(len(frame_list))"
   ]
  },
  {
   "cell_type": "markdown",
   "metadata": {},
   "source": [
    "<a id='filt'></a>\n",
    "## Filtering\n",
    "---\n",
    "Scikit's Hough Transform function - *hough_circle( )* - requires that a black circle on a white background be given. The *canny filter* is good for this. We run the filter on pre-*median blurred* frames."
   ]
  },
  {
   "cell_type": "code",
   "execution_count": 303,
   "metadata": {
    "collapsed": false
   },
   "outputs": [
    {
     "name": "stdout",
     "output_type": "stream",
     "text": [
      "3600\n",
      "3600\n"
     ]
    },
    {
     "data": {
      "image/png": "[encoded data removed]",
      "text/plain": [
       "<matplotlib.figure.Figure at 0x3604a03c8>"
      ]
     },
     "metadata": {},
     "output_type": "display_data"
    }
   ],
   "source": [
    "import copy\n",
    "from scipy import ndimage as ndi\n",
    "from scipy.misc import fromimage\n",
    "from skimage import color\n",
    "from skimage.draw import circle_perimeter\n",
    "from skimage.feature import peak_local_max, canny\n",
    "from skimage.filters.rank import median\n",
    "from skimage.morphology import disk\n",
    "from skimage.transform import hough_circle\n",
    "\n",
    "\n",
    "image_list = []\n",
    "filter_list = []\n",
    "\n",
    "for i in range(T):\n",
    "    image = fromimage(frame_list[i], True).astype(int)\n",
    "    image_original = fromimage(frame_list[i])\n",
    "#     blurred = median(image.astype(\"uint8\"), disk(10))\n",
    "    blurred = ndi.gaussian_filter(fromimage(frame_list[i], True).astype(int), 2)\n",
    "    filtered = canny(blurred, sigma=1, low_threshold=10, high_threshold=120)\n",
    "    \n",
    "    image_list.append(image_original)\n",
    "    filter_list.append(filtered)\n",
    "\n",
    "image_list_corrected = copy.deepcopy(image_list)\n",
    "image_list_clean = copy.deepcopy(image_list)\n",
    "\n",
    "plt.figure()\n",
    "plt.imshow(filtered) # Last filter in list\n",
    "\n",
    "print(len(image_list))\n",
    "print(len(filter_list))"
   ]
  },
  {
   "cell_type": "markdown",
   "metadata": {},
   "source": [
    "#### Draw Circles\n",
    "In order to detect centers outside the frame, the accumulator size is built to be larger than the original picture (roughly extended by two times the largest radius). Document the radius and x and y positions of each frame's center in _hdf_."
   ]
  },
  {
   "cell_type": "code",
   "execution_count": 304,
   "metadata": {
    "collapsed": false
   },
   "outputs": [
    {
     "name": "stdout",
     "output_type": "stream",
     "text": [
      "[255 255 255]\n",
      "142 62\n"
     ]
    },
    {
     "data": {
      "text/plain": [
       "<matplotlib.image.AxesImage at 0x1f34cce10>"
      ]
     },
     "execution_count": 304,
     "metadata": {},
     "output_type": "execute_result"
    },
    {
     "data": {
      "image/png": "[encoded data removed]",
      "text/plain": [
       "<matplotlib.figure.Figure at 0x3604a0908>"
      ]
     },
     "metadata": {},
     "output_type": "display_data"
    }
   ],
   "source": [
    "# Predict range of radii and then detect them based on previous filtering\n",
    "hough_radii = np.arange(17, 30, 2) # [15 17 19 21 23 25 27 29]\n",
    "hdf_xyr = []\n",
    "hdf_color = []\n",
    "\n",
    "for i in range(T):\n",
    "    # Unsure whether to normalize accumulator\n",
    "    hough_res = hough_circle(filter_list[i], hough_radii, True, False)\n",
    "\n",
    "    centers = []\n",
    "    accums = []\n",
    "    radii = []\n",
    "\n",
    "    for radius, h in zip(hough_radii, hough_res):\n",
    "        # For each radius, extract num_peaks circles\n",
    "        num_peaks = 1\n",
    "        peaks = peak_local_max(h, num_peaks=num_peaks)\n",
    "        centers.extend(peaks)\n",
    "        accums.extend(h[peaks[:, 0], peaks[:, 1]])\n",
    "        radii.extend([radius] * num_peaks)\n",
    "\n",
    "    # Draw the most prominent circle\n",
    "    # Change [:1] to any other number for number of circles\n",
    "    for idx in np.argsort(accums)[::-1][:1]:\n",
    "        center_y, center_x = centers[idx]\n",
    "        radius = radii[idx]\n",
    "        hdf_xyr.append([center_y, center_x, radius]) # may need to switch x's and y's\n",
    "        hdf_color.append(image_list[i][center_y, center_x])\n",
    "        cy, cx = circle_perimeter(center_y, center_x, radius)\n",
    "        image_list[i][cy, cx] = (20, 220, 20)\n",
    "\n",
    "print(image_list[720][center_y, center_x])\n",
    "print(center_y, center_x)\n",
    "plt.figure()\n",
    "plt.imshow(image_list[720]) #i"
   ]
  },
  {
   "cell_type": "code",
   "execution_count": 302,
   "metadata": {
    "collapsed": false
   },
   "outputs": [],
   "source": [
    "# print(fromimage(frame_list[2400], True).astype(\"uint8\"))\n",
    "\n",
    "# iimg = median(iimg.astype(int), disk(10))\n",
    "# iimg = ndi.gaussian_filter(fromimage(frame_list[700], True).astype(int), 2)\n",
    "# plt.figure()\n",
    "# plt.imshow(frame_list[3150])\n",
    "\n",
    "# print(hdf_color[500])\n",
    "# print(iimg)\n",
    "# plt.figure()\n",
    "# plt.imshow(canny(iimg.astype(int), sigma=1, low_threshold=10, high_threshold=120))"
   ]
  },
  {
   "cell_type": "markdown",
   "metadata": {},
   "source": [
    "<a id='ecorr'></a>\n",
    "## Error Correction\n",
    "---\n",
    "Remove any previous datasets (if they exist)."
   ]
  },
  {
   "cell_type": "code",
   "execution_count": 305,
   "metadata": {
    "collapsed": false
   },
   "outputs": [],
   "source": [
    "hdf_path = \"xyrc_hdf/eye_position_data.hdf5\"\n",
    "\n",
    "if os.path.exists(hdf_path):\n",
    "    os.remove(hdf_path)\n",
    "else:\n",
    "    print(\"HDF not created yet\")"
   ]
  },
  {
   "cell_type": "markdown",
   "metadata": {},
   "source": [
    "Create new HDF file from data."
   ]
  },
  {
   "cell_type": "code",
   "execution_count": 306,
   "metadata": {
    "collapsed": false
   },
   "outputs": [],
   "source": [
    "import h5py\n",
    "\n",
    "hdf_1 = np.asarray(hdf_xyr)\n",
    "hdf_2 = np.asarray(hdf_color)\n",
    "\n",
    "most_recent = 0\n",
    "f = h5py.File(hdf_path, 'a')\n",
    "dset_1 = f.create_dataset(\"dataset_%i\" % most_recent, data=hdf_1, dtype='float64')\n",
    "xyr_data = np.asarray(f.get(\"dataset_%i\" % most_recent))\n",
    "\n",
    "most_recent += 1\n",
    "dset_2 = f.create_dataset(\"dataset_%i\" % most_recent, data=hdf_2, dtype='float64')\n",
    "color_data = np.asarray(f.get(\"dataset_%i\" % most_recent))"
   ]
  },
  {
   "cell_type": "markdown",
   "metadata": {},
   "source": [
    "Filter HDF ([x, y, r])."
   ]
  },
  {
   "cell_type": "code",
   "execution_count": 310,
   "metadata": {
    "collapsed": false
   },
   "outputs": [
    {
     "name": "stdout",
     "output_type": "stream",
     "text": [
      "[[ 140.   62.   21.]\n",
      " [ 140.   62.   21.]\n",
      " [ 140.   62.   21.]\n",
      " ..., \n",
      " [ 142.   62.   21.]\n",
      " [ 142.   62.   21.]\n",
      " [ 142.   62.   21.]]\n"
     ]
    }
   ],
   "source": [
    "from scipy.signal import medfilt\n",
    "\n",
    "def nan_vector_outliers(vector, function=np.percentile, vmax=95.0, make_abs=False):\n",
    "    preproc = np.abs if make_abs else lambda x: x\n",
    "    maxval = function(preproc(vector), vmax)\n",
    "    mask = np.where(vector > maxval, True, False)\n",
    "    nvector = vector.copy()\n",
    "    nvector[mask] = np.nan\n",
    "    return nvector\n",
    "\n",
    "def filter_pupil_location(posxyz, error_check, frame_no, medianfilt_window_size=15, filter_pupil=True,\n",
    "                          nan_outliers=(0, 1, 2),\n",
    "                          nan_functions=(np.percentile, np.percentile, np.percentile),\n",
    "                          nan_vmax=(95., 95., 98.)):\n",
    "    '''\n",
    "    \n",
    "    '''\n",
    "    cleanxyz = posxyz.copy()\n",
    "    xypos = cleanxyz[:, :-1]\n",
    "    pupil_size = cleanxyz[:, -1]\n",
    "\n",
    "    for sidx in range(2):\n",
    "        xypos[:, sidx] = medfilt(xypos[:, sidx], medianfilt_window_size)\n",
    "\n",
    "    if filter_pupil:\n",
    "        pupil_size = medfilt(pupil_size, medianfilt_window_size+10)\n",
    "\n",
    "#     for i in range(frame_no):\n",
    "#         if error_check[i][0] > 140:\n",
    "#             cleanxyz[i][0] = np.nan\n",
    "            \n",
    "#     for idx in nan_outliers:\n",
    "#         vec = nan_vector_outliers(cleanxyz[:, idx],\n",
    "#                                   function = nan_functions[idx],\n",
    "#                                   vmax = nan_vmax[idx])\n",
    "#         cleanxyz[:,idx] = vec\n",
    "\n",
    "#     # Propagate nans\n",
    "#     mask = np.isnan(cleanxyz.sum(axis = -1))\n",
    "#     cleanxyz[mask] = np.nan\n",
    "\n",
    "    return cleanxyz\n",
    "\n",
    "posxyz_preproc = filter_pupil_location(xyr_data, color_data, T, medianfilt_window_size=5)\n",
    "print(posxyz_preproc)"
   ]
  },
  {
   "cell_type": "markdown",
   "metadata": {},
   "source": [
    "<a id='wvid'></a>\n",
    "## Write_Video\n",
    "---\n",
    "Take all the overwritten frames from the previous section and write them into video in **/out_filtered**."
   ]
  },
  {
   "cell_type": "code",
   "execution_count": 78,
   "metadata": {
    "collapsed": false
   },
   "outputs": [],
   "source": [
    "import skvideo.io\n",
    "\n",
    "\n",
    "tracked_path = \"out_tracked/output_tracked.mp4\"\n",
    "skvideo.io.vwrite(tracked_path, image_list, \n",
    "                  inputdict={'-r': '60'}) # change to make fps more choppy\n",
    "\n",
    "if video_show:\n",
    "    HTML(\"\"\"<video width=\"320\" height=\"240\" controls>\n",
    "                <source src={0} type=\"video/{1}\">\n",
    "                    </video>\"\"\".format(tracked_path, video_format))\n",
    "\n",
    "# check sec 12, 43 for blinks"
   ]
  },
  {
   "cell_type": "markdown",
   "metadata": {},
   "source": [
    "Recreate video for (hopefully) improved results."
   ]
  },
  {
   "cell_type": "code",
   "execution_count": 311,
   "metadata": {
    "collapsed": false
   },
   "outputs": [],
   "source": [
    "pp = posxyz_preproc.copy()\n",
    "\n",
    "for i in range(T):\n",
    "    if np.isnan(pp[i][0]):\n",
    "        continue\n",
    "    center_x = pp[i][1]\n",
    "    center_y = pp[i][0]\n",
    "    radius = pp[i][2]\n",
    "    cy, cx = circle_perimeter(int(center_y), int(center_x), int(radius))\n",
    "    image_list[i][cy, cx] = (220, 20, 150)\n",
    "    image_list_corrected[i][cy, cx] = (220, 20, 150)\n",
    "\n",
    "overlapped_path = \"out_tracked/output_overlapped.mp4\"\n",
    "skvideo.io.vwrite(overlapped_path, image_list,\n",
    "                  inputdict={'-r': '60'}) # change to make fps more choppy\n",
    "\n",
    "filtered_path = \"out_tracked/output_filtered.mp4\"\n",
    "skvideo.io.vwrite(filtered_path, image_list_corrected,\n",
    "                  inputdict={'-r': '60'}) # change to make fps more choppy"
   ]
  },
  {
   "cell_type": "code",
   "execution_count": 309,
   "metadata": {
    "collapsed": true
   },
   "outputs": [],
   "source": [
    "image_list = copy.deepcopy(image_list_clean)\n",
    "image_list_corrected = copy.deepcopy(image_list_clean)"
   ]
  },
  {
   "cell_type": "markdown",
   "metadata": {},
   "source": [
    "#### Display Videos (not working)"
   ]
  },
  {
   "cell_type": "code",
   "execution_count": null,
   "metadata": {
    "collapsed": false
   },
   "outputs": [],
   "source": [
    "if video_show:\n",
    "    HTML(\"\"\"<video width=\"320\" height=\"240\" controls>\n",
    "                <source src={0} type=\"video/{1}\">\n",
    "                </video>\"\"\".format(overlapped_path, video_format))\n",
    "\n",
    "video_show_switch()\n",
    "if video_show:\n",
    "    print(\"displaying 2 videos...\")\n",
    "    html_show(filtered_path, video_format)\n",
    "    HTML(\"\"\"<video width=\"320\" height=\"240\" controls>\n",
    "              <source src={0} type=\"video/{1}\">\n",
    "              </video>\"\"\".format(tracked_path, video_format))"
   ]
  },
  {
   "cell_type": "markdown",
   "metadata": {},
   "source": [
    "<a id='warpf'></a>\n",
    "## Warp_Field\n",
    "---\n",
    "Conducting pre-warp preparations; grabbing calibration frames, stimuli. Creating stimulus array. Only Python 2.x can use _cpickle_."
   ]
  },
  {
   "cell_type": "code",
   "execution_count": null,
   "metadata": {
    "collapsed": false
   },
   "outputs": [],
   "source": [
    "import pickle\n",
    "\n",
    "\n",
    "# def load_stimulus(stim_path='calibration_matrix/eyetrack.index', nrepeats=2):\n",
    "#     '''\n",
    "    \n",
    "#     '''\n",
    "#     stimulus_size = (1024, 768)\n",
    "#     stimulus_fps = 15 # Hz\n",
    "#     nstimuli = 35\n",
    "#     target_duration = 2 # [sec]\n",
    "#     stim_sizex, stim_sizey = stimulus_size\n",
    "\n",
    "#     # [secs] 35 stimuli, 2s each, 2 repeats\n",
    "#     stimulus_duration = float(nstimuli*nrepeats*target_duration)\n",
    "#     # load the stimulus presentation file\n",
    "#     stimulus_order = np.loadtxt(stim_path, dtype='S')\n",
    "#     # which stimulus is presented when, zero-indexed transform\n",
    "#     stimulus_order = np.asarray([int(os.path.splitext(t)[0][2:]) for t in stimulus_order]) -1\n",
    "#     return stimulus_duration, stimulus_order\n",
    "\n",
    "# load_stimulus()\n",
    "\n",
    "z_path = open(\"calibration_matrix/1024x576_locations_hx00p_wx00p.p\", \"rb\")\n",
    "z = np.asarray(pickle.load(z_path))\n",
    "ti = np.linspace(-2.0, 2.0, 100)\n",
    "XI, YI = np.meshgrid(ti, ti)"
   ]
  },
  {
   "cell_type": "markdown",
   "metadata": {},
   "source": [
    "#### Interpolate\n",
    "Running _scipy.interpolate_'s thin-plate spline. Presenting as _meshgrid_."
   ]
  },
  {
   "cell_type": "code",
   "execution_count": null,
   "metadata": {
    "collapsed": false
   },
   "outputs": [],
   "source": [
    "from scipy.interpolate import Rbf as rbf\n",
    "from matplotlib import cm\n",
    "\n",
    "\n",
    "rbf_horiz = rbf(image_list_copy[:, 1],\n",
    "                image_list_copy[:, 0],\n",
    "                target_locations_kept[:, 0],\n",
    "                function='thin-plate',)\n",
    "\n",
    "rbf_vert = rbf(image_list_copy[:, 1],\n",
    "               image_list_copy[:, 0],\n",
    "               z[:, 1],\n",
    "               function='thin-plate',)\n",
    "\n",
    "ZI = rbf(XI, YI)\n",
    "\n",
    "plt.subplot(1, 1, 1)\n",
    "plt.pcolor(XI, YI, ZI, cmap=cm.jet)\n",
    "plt.scatter(x, y, 100, z, cmap=cm.jet)\n",
    "plt.title(\"RBF interpolation\")\n",
    "plt.xlim(-2, 2)\n",
    "plt.ylim(-2, 2)\n",
    "plt.colorbar()"
   ]
  },
  {
   "cell_type": "markdown",
   "metadata": {},
   "source": [
    "## Questions\n",
    "---"
   ]
  },
  {
   "cell_type": "markdown",
   "metadata": {
    "collapsed": true
   },
   "source": [
    "* Blank out samples at beginning and end of trial, posxyz_targets[:, :trimbeg, :] = np.nan, posxyz_targets[:, -trimend:, :] = np.nan, posxyz_preproc = np.vstack(posxyz_targets)\n",
    "* Blank out invalid points, posxyz_preproc[~valid] = np.nan\n",
    "* 2 seconds each calibration frame?\n",
    "* Color cross-validation\n",
    "* Ellipsis use?\n",
    "* Effectiveness of canny filter over median blur\n",
    "* Way to mark blinks --> skvideo.motion.blockMotion?\n",
    "* zscore"
   ]
  },
  {
   "cell_type": "code",
   "execution_count": null,
   "metadata": {
    "collapsed": true
   },
   "outputs": [],
   "source": []
  }
 ],
 "metadata": {
  "kernelspec": {
   "display_name": "Python 3",
   "language": "python",
   "name": "python3"
  },
  "language_info": {
   "codemirror_mode": {
    "name": "ipython",
    "version": 3
   },
   "file_extension": ".py",
   "mimetype": "text/x-python",
   "name": "python",
   "nbconvert_exporter": "python",
   "pygments_lexer": "ipython3",
   "version": "3.4.4"
  }
 },
 "nbformat": 4,
 "nbformat_minor": 0
}
